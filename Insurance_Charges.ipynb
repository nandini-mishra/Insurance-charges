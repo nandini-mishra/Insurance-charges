{
  "nbformat": 4,
  "nbformat_minor": 0,
  "metadata": {
    "colab": {
      "name": "Insurance Charges.ipynb",
      "provenance": []
    },
    "kernelspec": {
      "name": "python3",
      "display_name": "Python 3"
    },
    "language_info": {
      "name": "python"
    }
  },
  "cells": [
    {
      "cell_type": "code",
      "metadata": {
        "id": "cgi6sKaRUDGS"
      },
      "source": [
        "import numpy as np\n",
        "import matplotlib.pyplot as plt\n",
        "import pandas as pd"
      ],
      "execution_count": 70,
      "outputs": []
    },
    {
      "cell_type": "code",
      "metadata": {
        "id": "8ONfK6kfXXWE"
      },
      "source": [
        "dataset = pd.read_csv(r\"/content/insurance.csv\") \n",
        "X = dataset.iloc[:, :-1].values\n",
        "y = dataset.iloc[:, -1].values"
      ],
      "execution_count": 71,
      "outputs": []
    },
    {
      "cell_type": "code",
      "metadata": {
        "colab": {
          "base_uri": "https://localhost:8080/"
        },
        "id": "431wwPQwX57p",
        "outputId": "eb840fbb-01bb-47a9-d79f-9ae5b20dbaed"
      },
      "source": [
        "print(X)"
      ],
      "execution_count": 72,
      "outputs": [
        {
          "output_type": "stream",
          "text": [
            "[[19 'female' 27.9 0 'yes' 'southwest']\n",
            " [18 'male' 33.77 1 'no' 'southeast']\n",
            " [28 'male' 33.0 3 'no' 'southeast']\n",
            " ...\n",
            " [18 'female' 36.85 0 'no' 'southeast']\n",
            " [21 'female' 25.8 0 'no' 'southwest']\n",
            " [61 'female' 29.07 0 'yes' 'northwest']]\n"
          ],
          "name": "stdout"
        }
      ]
    },
    {
      "cell_type": "code",
      "metadata": {
        "id": "mbvUJYIdXqAT"
      },
      "source": [
        "from sklearn.preprocessing import LabelEncoder, OneHotEncoder\n",
        "from sklearn.compose import ColumnTransformer\n",
        "\n",
        "# Male/Female\n",
        "labelencoder_X = LabelEncoder()\n",
        "X[:, 1] = labelencoder_X.fit_transform(X[:, 1])"
      ],
      "execution_count": 73,
      "outputs": []
    },
    {
      "cell_type": "code",
      "metadata": {
        "colab": {
          "base_uri": "https://localhost:8080/"
        },
        "id": "xvJ1Rx3VX9Cu",
        "outputId": "1132919d-2c1b-4a1e-a127-c0ec072f2090"
      },
      "source": [
        "print(X)"
      ],
      "execution_count": 74,
      "outputs": [
        {
          "output_type": "stream",
          "text": [
            "[[19 0 27.9 0 'yes' 'southwest']\n",
            " [18 1 33.77 1 'no' 'southeast']\n",
            " [28 1 33.0 3 'no' 'southeast']\n",
            " ...\n",
            " [18 0 36.85 0 'no' 'southeast']\n",
            " [21 0 25.8 0 'no' 'southwest']\n",
            " [61 0 29.07 0 'yes' 'northwest']]\n"
          ],
          "name": "stdout"
        }
      ]
    },
    {
      "cell_type": "code",
      "metadata": {
        "id": "8K1_scTFX-gp"
      },
      "source": [
        "# smoker\n",
        "labelencoder_X = LabelEncoder()\n",
        "X[:, 4] = labelencoder_X.fit_transform(X[:, 4])"
      ],
      "execution_count": 75,
      "outputs": []
    },
    {
      "cell_type": "code",
      "metadata": {
        "colab": {
          "base_uri": "https://localhost:8080/"
        },
        "id": "meNC15sMYcy_",
        "outputId": "9785f29a-2243-4a41-d97c-9e8c7c5b01fe"
      },
      "source": [
        "print(X)"
      ],
      "execution_count": 76,
      "outputs": [
        {
          "output_type": "stream",
          "text": [
            "[[19 0 27.9 0 1 'southwest']\n",
            " [18 1 33.77 1 0 'southeast']\n",
            " [28 1 33.0 3 0 'southeast']\n",
            " ...\n",
            " [18 0 36.85 0 0 'southeast']\n",
            " [21 0 25.8 0 0 'southwest']\n",
            " [61 0 29.07 0 1 'northwest']]\n"
          ],
          "name": "stdout"
        }
      ]
    },
    {
      "cell_type": "code",
      "metadata": {
        "id": "fZKJT8I1Ydpq"
      },
      "source": [
        "from sklearn.compose import ColumnTransformer\n",
        "from sklearn.preprocessing import OneHotEncoder\n",
        "ct = ColumnTransformer(transformers=[('encoder', OneHotEncoder(), [5])], remainder='passthrough')\n",
        "X = np.array(ct.fit_transform(X))"
      ],
      "execution_count": 77,
      "outputs": []
    },
    {
      "cell_type": "code",
      "metadata": {
        "colab": {
          "base_uri": "https://localhost:8080/"
        },
        "id": "RrYiMiM3YiXV",
        "outputId": "d341e6ee-de0c-45ac-e1b6-ff7c4ffb9752"
      },
      "source": [
        "print(X)"
      ],
      "execution_count": 78,
      "outputs": [
        {
          "output_type": "stream",
          "text": [
            "[[0.0 0.0 0.0 ... 27.9 0 1]\n",
            " [0.0 0.0 1.0 ... 33.77 1 0]\n",
            " [0.0 0.0 1.0 ... 33.0 3 0]\n",
            " ...\n",
            " [0.0 0.0 1.0 ... 36.85 0 0]\n",
            " [0.0 0.0 0.0 ... 25.8 0 0]\n",
            " [0.0 1.0 0.0 ... 29.07 0 1]]\n"
          ],
          "name": "stdout"
        }
      ]
    },
    {
      "cell_type": "code",
      "metadata": {
        "id": "yHD8EQn9YjJV"
      },
      "source": [
        "from sklearn.model_selection import train_test_split\n",
        "X_train, X_test, y_train, y_test = train_test_split(X, y, test_size = 0.4, random_state = 0)"
      ],
      "execution_count": 79,
      "outputs": []
    },
    {
      "cell_type": "code",
      "metadata": {
        "colab": {
          "base_uri": "https://localhost:8080/"
        },
        "id": "u6X9DNImZELq",
        "outputId": "809370d7-b1e1-4f25-8d14-68a97b6583a6"
      },
      "source": [
        "from sklearn.linear_model import LinearRegression\n",
        "regressor = LinearRegression()\n",
        "regressor.fit(X_train, y_train)"
      ],
      "execution_count": 80,
      "outputs": [
        {
          "output_type": "execute_result",
          "data": {
            "text/plain": [
              "LinearRegression(copy_X=True, fit_intercept=True, n_jobs=None, normalize=False)"
            ]
          },
          "metadata": {
            "tags": []
          },
          "execution_count": 80
        }
      ]
    },
    {
      "cell_type": "code",
      "metadata": {
        "colab": {
          "base_uri": "https://localhost:8080/"
        },
        "id": "eqD9wGm6ZG11",
        "outputId": "cbb65928-8e02-4183-c242-74dbbf7d0630"
      },
      "source": [
        "y_pred = regressor.predict(X_test)\n",
        "np.set_printoptions(precision=2)\n",
        "print(np.concatenate((y_pred.reshape(len(y_pred),1), y_test.reshape(len(y_test),1)),1))"
      ],
      "execution_count": 81,
      "outputs": [
        {
          "output_type": "stream",
          "text": [
            "[[11207.54  9724.53]\n",
            " [ 9620.13  8547.69]\n",
            " [37640.37 45702.02]\n",
            " ...\n",
            " [ 2663.99  1967.02]\n",
            " [ 5590.95  1146.8 ]\n",
            " [ 2732.48  1639.56]]\n"
          ],
          "name": "stdout"
        }
      ]
    },
    {
      "cell_type": "code",
      "metadata": {
        "colab": {
          "base_uri": "https://localhost:8080/"
        },
        "id": "MOU-OtfCd95x",
        "outputId": "533e780c-b959-4370-93f7-c1f30d77da82"
      },
      "source": [
        "from sklearn.metrics import r2_score\n",
        "r2_score(y_test, y_pred)\n"
      ],
      "execution_count": 82,
      "outputs": [
        {
          "output_type": "execute_result",
          "data": {
            "text/plain": [
              "0.7878533488950245"
            ]
          },
          "metadata": {
            "tags": []
          },
          "execution_count": 82
        }
      ]
    },
    {
      "cell_type": "code",
      "metadata": {
        "id": "-oaJxnq5eAq3"
      },
      "source": [
        "plt.scatter(X_train, y_train, color = \"red\")\n",
        "plt.plot(X_train, lr.predict(X_train), color = \"green\")\n",
        "plt.title(\" (Training set)\")\n",
        "plt.xlabel(\"Age\")\n",
        "plt.ylabel(\"Charges\")\n",
        "plt.show()"
      ],
      "execution_count": 84,
      "outputs": []
    },
    {
      "cell_type": "code",
      "metadata": {
        "id": "u9tchXxKhzdO"
      },
      "source": [
        ""
      ],
      "execution_count": null,
      "outputs": []
    }
  ]
}